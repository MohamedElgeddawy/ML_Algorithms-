{
 "cells": [
  {
   "cell_type": "markdown",
   "metadata": {},
   "source": [
    "# Mohamed Sherif Elsayed\n",
    "# Sec 3 \n"
   ]
  },
  {
   "cell_type": "markdown",
   "metadata": {},
   "source": [
    "# Importing Library\n"
   ]
  },
  {
   "cell_type": "code",
   "execution_count": 1,
   "metadata": {},
   "outputs": [],
   "source": [
    "import matplotlib.pyplot as plt\n",
    "import pandas as pd"
   ]
  },
  {
   "cell_type": "markdown",
   "metadata": {},
   "source": [
    "# reading Data.csv getting the first  500 rows and all columns"
   ]
  },
  {
   "cell_type": "code",
   "execution_count": 2,
   "metadata": {
    "scrolled": true
   },
   "outputs": [
    {
     "data": {
      "text/plain": [
       "(500, 8)"
      ]
     },
     "execution_count": 2,
     "metadata": {},
     "output_type": "execute_result"
    }
   ],
   "source": [
    "dataset = pd.read_csv('data.csv')\n",
    "X = dataset.iloc[:500,:].values\n",
    "\n",
    "X.shape"
   ]
  },
  {
   "cell_type": "markdown",
   "metadata": {},
   "source": [
    "# Data Wrangling"
   ]
  },
  {
   "cell_type": "code",
   "execution_count": 7,
   "metadata": {},
   "outputs": [
    {
     "data": {
      "text/html": [
       "<div>\n",
       "<style scoped>\n",
       "    .dataframe tbody tr th:only-of-type {\n",
       "        vertical-align: middle;\n",
       "    }\n",
       "\n",
       "    .dataframe tbody tr th {\n",
       "        vertical-align: top;\n",
       "    }\n",
       "\n",
       "    .dataframe thead th {\n",
       "        text-align: right;\n",
       "    }\n",
       "</style>\n",
       "<table border=\"1\" class=\"dataframe\">\n",
       "  <thead>\n",
       "    <tr style=\"text-align: right;\">\n",
       "      <th></th>\n",
       "      <th>0</th>\n",
       "      <th>1</th>\n",
       "      <th>2</th>\n",
       "      <th>3</th>\n",
       "      <th>4</th>\n",
       "      <th>5</th>\n",
       "      <th>6</th>\n",
       "      <th>7</th>\n",
       "    </tr>\n",
       "  </thead>\n",
       "  <tbody>\n",
       "    <tr>\n",
       "      <th>0</th>\n",
       "      <td>-2.084839</td>\n",
       "      <td>-0.471673</td>\n",
       "      <td>-0.955542</td>\n",
       "      <td>-0.567288</td>\n",
       "      <td>-0.953226</td>\n",
       "      <td>-1.510386</td>\n",
       "      <td>0.921728</td>\n",
       "      <td>0.437954</td>\n",
       "    </tr>\n",
       "    <tr>\n",
       "      <th>1</th>\n",
       "      <td>0.003700</td>\n",
       "      <td>-0.999118</td>\n",
       "      <td>0.202003</td>\n",
       "      <td>1.612001</td>\n",
       "      <td>-0.375642</td>\n",
       "      <td>0.378518</td>\n",
       "      <td>0.113693</td>\n",
       "      <td>1.718011</td>\n",
       "    </tr>\n",
       "    <tr>\n",
       "      <th>2</th>\n",
       "      <td>-1.456240</td>\n",
       "      <td>0.483522</td>\n",
       "      <td>-0.508605</td>\n",
       "      <td>-0.316406</td>\n",
       "      <td>-1.695560</td>\n",
       "      <td>-1.943310</td>\n",
       "      <td>0.299486</td>\n",
       "      <td>0.147370</td>\n",
       "    </tr>\n",
       "    <tr>\n",
       "      <th>3</th>\n",
       "      <td>-1.595524</td>\n",
       "      <td>-0.219744</td>\n",
       "      <td>1.039403</td>\n",
       "      <td>0.381587</td>\n",
       "      <td>0.109094</td>\n",
       "      <td>-0.155068</td>\n",
       "      <td>0.156054</td>\n",
       "      <td>0.007314</td>\n",
       "    </tr>\n",
       "    <tr>\n",
       "      <th>4</th>\n",
       "      <td>0.995277</td>\n",
       "      <td>-1.517259</td>\n",
       "      <td>-0.101198</td>\n",
       "      <td>1.415742</td>\n",
       "      <td>-0.054356</td>\n",
       "      <td>0.611216</td>\n",
       "      <td>0.196938</td>\n",
       "      <td>0.641809</td>\n",
       "    </tr>\n",
       "  </tbody>\n",
       "</table>\n",
       "</div>"
      ],
      "text/plain": [
       "          0         1         2         3         4         5         6  \\\n",
       "0 -2.084839 -0.471673 -0.955542 -0.567288 -0.953226 -1.510386  0.921728   \n",
       "1  0.003700 -0.999118  0.202003  1.612001 -0.375642  0.378518  0.113693   \n",
       "2 -1.456240  0.483522 -0.508605 -0.316406 -1.695560 -1.943310  0.299486   \n",
       "3 -1.595524 -0.219744  1.039403  0.381587  0.109094 -0.155068  0.156054   \n",
       "4  0.995277 -1.517259 -0.101198  1.415742 -0.054356  0.611216  0.196938   \n",
       "\n",
       "          7  \n",
       "0  0.437954  \n",
       "1  1.718011  \n",
       "2  0.147370  \n",
       "3  0.007314  \n",
       "4  0.641809  "
      ]
     },
     "execution_count": 7,
     "metadata": {},
     "output_type": "execute_result"
    }
   ],
   "source": [
    "dataset.head()"
   ]
  },
  {
   "cell_type": "code",
   "execution_count": 8,
   "metadata": {},
   "outputs": [
    {
     "name": "stdout",
     "output_type": "stream",
     "text": [
      "<class 'pandas.core.frame.DataFrame'>\n",
      "RangeIndex: 1309 entries, 0 to 1308\n",
      "Data columns (total 8 columns):\n",
      " #   Column  Non-Null Count  Dtype  \n",
      "---  ------  --------------  -----  \n",
      " 0   0       1309 non-null   float64\n",
      " 1   1       1309 non-null   float64\n",
      " 2   2       1309 non-null   float64\n",
      " 3   3       1309 non-null   float64\n",
      " 4   4       1309 non-null   float64\n",
      " 5   5       1309 non-null   float64\n",
      " 6   6       1309 non-null   float64\n",
      " 7   7       1309 non-null   float64\n",
      "dtypes: float64(8)\n",
      "memory usage: 81.9 KB\n"
     ]
    }
   ],
   "source": [
    "dataset.info()\n"
   ]
  },
  {
   "cell_type": "code",
   "execution_count": 15,
   "metadata": {},
   "outputs": [
    {
     "data": {
      "text/html": [
       "<div>\n",
       "<style scoped>\n",
       "    .dataframe tbody tr th:only-of-type {\n",
       "        vertical-align: middle;\n",
       "    }\n",
       "\n",
       "    .dataframe tbody tr th {\n",
       "        vertical-align: top;\n",
       "    }\n",
       "\n",
       "    .dataframe thead th {\n",
       "        text-align: right;\n",
       "    }\n",
       "</style>\n",
       "<table border=\"1\" class=\"dataframe\">\n",
       "  <thead>\n",
       "    <tr style=\"text-align: right;\">\n",
       "      <th></th>\n",
       "      <th>0</th>\n",
       "      <th>1</th>\n",
       "      <th>2</th>\n",
       "      <th>3</th>\n",
       "      <th>4</th>\n",
       "      <th>5</th>\n",
       "      <th>6</th>\n",
       "      <th>7</th>\n",
       "    </tr>\n",
       "  </thead>\n",
       "  <tbody>\n",
       "    <tr>\n",
       "      <th>count</th>\n",
       "      <td>1.309000e+03</td>\n",
       "      <td>1.309000e+03</td>\n",
       "      <td>1.309000e+03</td>\n",
       "      <td>1.309000e+03</td>\n",
       "      <td>1.309000e+03</td>\n",
       "      <td>1.309000e+03</td>\n",
       "      <td>1.309000e+03</td>\n",
       "      <td>1.309000e+03</td>\n",
       "    </tr>\n",
       "    <tr>\n",
       "      <th>mean</th>\n",
       "      <td>-2.368222e-11</td>\n",
       "      <td>-2.291847e-12</td>\n",
       "      <td>7.639435e-12</td>\n",
       "      <td>3.819711e-12</td>\n",
       "      <td>3.819705e-12</td>\n",
       "      <td>2.444612e-11</td>\n",
       "      <td>-2.902980e-11</td>\n",
       "      <td>1.222311e-11</td>\n",
       "    </tr>\n",
       "    <tr>\n",
       "      <th>std</th>\n",
       "      <td>1.917490e+00</td>\n",
       "      <td>1.633490e+00</td>\n",
       "      <td>1.120277e+00</td>\n",
       "      <td>1.073415e+00</td>\n",
       "      <td>8.484723e-01</td>\n",
       "      <td>7.963570e-01</td>\n",
       "      <td>7.837269e-01</td>\n",
       "      <td>7.496296e-01</td>\n",
       "    </tr>\n",
       "    <tr>\n",
       "      <th>min</th>\n",
       "      <td>-2.343054e+00</td>\n",
       "      <td>-5.895619e+00</td>\n",
       "      <td>-3.785076e+00</td>\n",
       "      <td>-5.443483e+00</td>\n",
       "      <td>-3.929435e+00</td>\n",
       "      <td>-2.514852e+00</td>\n",
       "      <td>-2.399253e+00</td>\n",
       "      <td>-4.959774e+00</td>\n",
       "    </tr>\n",
       "    <tr>\n",
       "      <th>25%</th>\n",
       "      <td>-1.638221e+00</td>\n",
       "      <td>-9.607650e-01</td>\n",
       "      <td>-5.837243e-01</td>\n",
       "      <td>-5.062350e-01</td>\n",
       "      <td>-4.905089e-01</td>\n",
       "      <td>-4.722723e-01</td>\n",
       "      <td>-4.604733e-01</td>\n",
       "      <td>-4.428151e-01</td>\n",
       "    </tr>\n",
       "    <tr>\n",
       "      <th>50%</th>\n",
       "      <td>-5.167353e-01</td>\n",
       "      <td>-3.189201e-01</td>\n",
       "      <td>4.969400e-02</td>\n",
       "      <td>1.880785e-01</td>\n",
       "      <td>3.376454e-02</td>\n",
       "      <td>-2.054734e-02</td>\n",
       "      <td>2.479064e-02</td>\n",
       "      <td>5.398186e-02</td>\n",
       "    </tr>\n",
       "    <tr>\n",
       "      <th>75%</th>\n",
       "      <td>1.326847e+00</td>\n",
       "      <td>6.082356e-01</td>\n",
       "      <td>8.704473e-01</td>\n",
       "      <td>5.425078e-01</td>\n",
       "      <td>4.565319e-01</td>\n",
       "      <td>5.822781e-01</td>\n",
       "      <td>4.426679e-01</td>\n",
       "      <td>4.456012e-01</td>\n",
       "    </tr>\n",
       "    <tr>\n",
       "      <th>max</th>\n",
       "      <td>7.287744e+00</td>\n",
       "      <td>3.949870e+00</td>\n",
       "      <td>3.230730e+00</td>\n",
       "      <td>2.816763e+00</td>\n",
       "      <td>3.037647e+00</td>\n",
       "      <td>2.819698e+00</td>\n",
       "      <td>4.367357e+00</td>\n",
       "      <td>3.555232e+00</td>\n",
       "    </tr>\n",
       "  </tbody>\n",
       "</table>\n",
       "</div>"
      ],
      "text/plain": [
       "                  0             1             2             3             4  \\\n",
       "count  1.309000e+03  1.309000e+03  1.309000e+03  1.309000e+03  1.309000e+03   \n",
       "mean  -2.368222e-11 -2.291847e-12  7.639435e-12  3.819711e-12  3.819705e-12   \n",
       "std    1.917490e+00  1.633490e+00  1.120277e+00  1.073415e+00  8.484723e-01   \n",
       "min   -2.343054e+00 -5.895619e+00 -3.785076e+00 -5.443483e+00 -3.929435e+00   \n",
       "25%   -1.638221e+00 -9.607650e-01 -5.837243e-01 -5.062350e-01 -4.905089e-01   \n",
       "50%   -5.167353e-01 -3.189201e-01  4.969400e-02  1.880785e-01  3.376454e-02   \n",
       "75%    1.326847e+00  6.082356e-01  8.704473e-01  5.425078e-01  4.565319e-01   \n",
       "max    7.287744e+00  3.949870e+00  3.230730e+00  2.816763e+00  3.037647e+00   \n",
       "\n",
       "                  5             6             7  \n",
       "count  1.309000e+03  1.309000e+03  1.309000e+03  \n",
       "mean   2.444612e-11 -2.902980e-11  1.222311e-11  \n",
       "std    7.963570e-01  7.837269e-01  7.496296e-01  \n",
       "min   -2.514852e+00 -2.399253e+00 -4.959774e+00  \n",
       "25%   -4.722723e-01 -4.604733e-01 -4.428151e-01  \n",
       "50%   -2.054734e-02  2.479064e-02  5.398186e-02  \n",
       "75%    5.822781e-01  4.426679e-01  4.456012e-01  \n",
       "max    2.819698e+00  4.367357e+00  3.555232e+00  "
      ]
     },
     "execution_count": 15,
     "metadata": {},
     "output_type": "execute_result"
    }
   ],
   "source": [
    "dataset.describe()\n"
   ]
  },
  {
   "cell_type": "code",
   "execution_count": 13,
   "metadata": {},
   "outputs": [
    {
     "data": {
      "text/plain": [
       "0    0\n",
       "1    0\n",
       "2    0\n",
       "3    0\n",
       "4    0\n",
       "5    0\n",
       "6    0\n",
       "7    0\n",
       "dtype: int64"
      ]
     },
     "execution_count": 13,
     "metadata": {},
     "output_type": "execute_result"
    }
   ],
   "source": [
    "dataset.isna().sum()\n"
   ]
  },
  {
   "cell_type": "markdown",
   "metadata": {},
   "source": [
    "# trians the algorithm"
   ]
  },
  {
   "cell_type": "code",
   "execution_count": 3,
   "metadata": {},
   "outputs": [],
   "source": [
    "from sklearn.cluster import KMeans"
   ]
  },
  {
   "cell_type": "markdown",
   "metadata": {},
   "source": [
    "# making a list of different inertia to get elbow"
   ]
  },
  {
   "cell_type": "code",
   "execution_count": 18,
   "metadata": {},
   "outputs": [
    {
     "name": "stderr",
     "output_type": "stream",
     "text": [
      "C:\\Users\\Moham\\anaconda3\\lib\\site-packages\\sklearn\\cluster\\_kmeans.py:881: UserWarning: KMeans is known to have a memory leak on Windows with MKL, when there are less chunks than available threads. You can avoid it by setting the environment variable OMP_NUM_THREADS=2.\n",
      "  warnings.warn(\n"
     ]
    },
    {
     "data": {
      "image/png": "[encoded data removed]",
      "text/plain": [
       "<Figure size 432x288 with 1 Axes>"
      ]
     },
     "metadata": {
      "needs_background": "light"
     },
     "output_type": "display_data"
    }
   ],
   "source": [
    "ilist = []\n",
    "n = 11\n",
    "for i in range(1,n):\n",
    "    kmeans = KMeans(n_clusters = i)\n",
    "    kmeans.fit(X)\n",
    "    #inirtia are the square root between distance and centers .\n",
    "    ilist.append(kmeans.inertia_)\n",
    "\n",
    "plt.plot(range(1,n), ilist)\n",
    "plt.title('Elbow')\n",
    "plt.xlabel('clusters')\n",
    "plt.ylabel('inertias')\n",
    "plt.show()"
   ]
  },
  {
   "cell_type": "markdown",
   "metadata": {},
   "source": [
    "# setting kmeans to 5"
   ]
  },
  {
   "cell_type": "code",
   "execution_count": 22,
   "metadata": {},
   "outputs": [],
   "source": [
    "# after we plot we make sure that num of clusters should be 6 \n",
    "\n",
    "kmeans = KMeans(n_clusters = 5, init = 'k-means++')\n",
    "y_kmeans = kmeans.fit_predict(X)"
   ]
  },
  {
   "cell_type": "code",
   "execution_count": 23,
   "metadata": {},
   "outputs": [
    {
     "name": "stderr",
     "output_type": "stream",
     "text": [
      "No handles with labels found to put in legend.\n"
     ]
    },
    {
     "data": {
      "image/png": "[encoded data removed]",
      "text/plain": [
       "<Figure size 432x288 with 1 Axes>"
      ]
     },
     "metadata": {
      "needs_background": "light"
     },
     "output_type": "display_data"
    }
   ],
   "source": [
    "# Visualising the clusters\n",
    "\n",
    "plt.scatter(X[y_kmeans == 0, 0], X[y_kmeans == 0, 1], s = 10, c = 'r')\n",
    "plt.scatter(X[y_kmeans == 1, 0], X[y_kmeans == 1, 1], s = 10, c = 'b')\n",
    "plt.scatter(X[y_kmeans == 2, 0], X[y_kmeans == 2, 1], s = 10, c = 'g')\n",
    "plt.scatter(X[y_kmeans == 3, 0], X[y_kmeans == 3, 1], s = 10, c = 'c')\n",
    "plt.scatter(X[y_kmeans == 4, 0], X[y_kmeans == 4, 1], s = 10, c = 'm')\n",
    "plt.scatter(kmeans.cluster_centers_[:, 0], kmeans.cluster_centers_[:, 1], s = 300, c = 'y')\n",
    "plt.title('Clusters of customers')\n",
    "plt.xlabel('Annual Income (k$)')\n",
    "plt.ylabel('Spending Score (1-100)')\n",
    "plt.legend()\n",
    "plt.show()"
   ]
  },
  {
   "cell_type": "code",
   "execution_count": null,
   "metadata": {},
   "outputs": [],
   "source": []
  }
 ],
 "metadata": {
  "kernelspec": {
   "display_name": "Python 3",
   "language": "python",
   "name": "python3"
  },
  "language_info": {
   "codemirror_mode": {
    "name": "ipython",
    "version": 3
   },
   "file_extension": ".py",
   "mimetype": "text/x-python",
   "name": "python",
   "nbconvert_exporter": "python",
   "pygments_lexer": "ipython3",
   "version": "3.8.5"
  }
 },
 "nbformat": 4,
 "nbformat_minor": 5
}
